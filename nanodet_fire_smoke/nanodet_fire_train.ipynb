{
  "nbformat": 4,
  "nbformat_minor": 0,
  "metadata": {
    "colab": {
      "provenance": [],
      "authorship_tag": "ABX9TyN01x8KGzgzVM9x/SQJTTt+"
    },
    "kernelspec": {
      "name": "python3",
      "display_name": "Python 3"
    },
    "language_info": {
      "name": "python"
    },
    "accelerator": "GPU",
    "gpuClass": "standard"
  },
  "cells": [
    {
      "cell_type": "code",
      "execution_count": null,
      "metadata": {
        "id": "I16mXiybSMtA"
      },
      "outputs": [],
      "source": [
        "from google.colab import drive\n",
        "drive.mount(\"/content/gdrive\", force_remount=True)"
      ]
    },
    {
      "cell_type": "code",
      "source": [
        "! rm -rf custom_nanodet\n",
        "! mkdir custom_nanodet\n",
        "%cd custom_nanodet"
      ],
      "metadata": {
        "id": "YRcEc5subQOF"
      },
      "execution_count": null,
      "outputs": []
    },
    {
      "cell_type": "code",
      "source": [
        "! wget https://github.com/Vitaljaz/tmp/raw/main/kaggle_fire_smoke_dataset.zip\n",
        "! unzip kaggle_fire_smoke_dataset"
      ],
      "metadata": {
        "id": "7fdpEITGiQSn"
      },
      "execution_count": null,
      "outputs": []
    },
    {
      "cell_type": "code",
      "source": [
        "! git clone https://github.com/RangiLyu/nanodet.git\n",
        "%cd nanodet\n",
        "! pip install -r requirements.txt \n",
        "! pip install torch torchvision torchaudio"
      ],
      "metadata": {
        "id": "Gx50YumsbgKZ"
      },
      "execution_count": null,
      "outputs": []
    },
    {
      "cell_type": "code",
      "source": [
        "%cd /content/custom_nanodet/\n",
        "! git clone https://github.com/NVIDIA/apex\n",
        "%cd apex\n",
        "! pip install -v --disable-pip-version-check --no-cache-dir --global-option=\"--cpp_ext\" --global-option=\"--cuda_ext\" ./\n",
        "! pip3 install cython; pip3 install 'git+https://github.com/cocodataset/cocoapi.git#subdirectory=PythonAPI'"
      ],
      "metadata": {
        "id": "aJo9Icspn5CQ"
      },
      "execution_count": null,
      "outputs": []
    },
    {
      "cell_type": "code",
      "source": [
        "%cd /content/custom_nanodet/nanodet\n",
        "! python setup.py develop"
      ],
      "metadata": {
        "id": "QfojC9BUb_Xg"
      },
      "execution_count": null,
      "outputs": []
    },
    {
      "cell_type": "code",
      "source": [
        "# change nanodet_custom_xml_dataset.yml with your settings\n",
        "%cd /content/custom_nanodet/nanodet\n",
        "! python tools/train.py config/nanodet_custom_xml_dataset.yml"
      ],
      "metadata": {
        "id": "2zyXkefLcBOf"
      },
      "execution_count": null,
      "outputs": []
    },
    {
      "cell_type": "code",
      "source": [
        "! pip install onnxruntime\n",
        "! python tools/export_onnx.py --cfg_path=config/nanodet_custom_xml_dataset.yml --model_path=/content/custom_nanodet/nanodet/workspace/nanodet_m/model_best/model_best.ckpt"
      ],
      "metadata": {
        "id": "vKQuHsWqP5Ev"
      },
      "execution_count": null,
      "outputs": []
    },
    {
      "cell_type": "code",
      "source": [
        "! python tools/export_torchscript.py --cfg_path=config/nanodet_custom_xml_dataset.yml --model_path=/content/custom_nanodet/nanodet/workspace/nanodet_m/model_best/model_best.ckpt"
      ],
      "metadata": {
        "id": "TGcbSitIksS5"
      },
      "execution_count": null,
      "outputs": []
    }
  ]
}